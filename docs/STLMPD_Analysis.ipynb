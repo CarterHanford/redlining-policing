{
  "nbformat": 4,
  "nbformat_minor": 0,
  "metadata": {
    "colab": {
      "name": "STLMPD Analysis.ipynb",
      "provenance": []
    },
    "kernelspec": {
      "name": "python3",
      "display_name": "Python 3"
    }
  },
  "cells": [
    {
      "cell_type": "markdown",
      "metadata": {
        "id": "GRFnuWnwRQxk"
      },
      "source": [
        "# **STLMPD Analysis Notebook**\n",
        "## Independent Study\n",
        "### *Carter Hanford*\n",
        "#### *November 11th, 2020*\n"
      ]
    },
    {
      "cell_type": "markdown",
      "metadata": {
        "id": "rK7Odv2iqx8F"
      },
      "source": [
        "### ***Introduction***\n",
        "\n",
        "In this notebook we'll examine data accessed via the St. Louis Metropolitan Police Department. In this data, we have instances of non-violent crime with the corresponding address, neighborhood, and address from 2010-2018. The objective of this notebook is to visualize and perform some machine learning techniques on the data to indicate whether or not it is suitable for further ML analysis. Since the data from STLMPD lacks \"predictable\" variables, much of this notebook will be exploration and analyzing the dataset, looking for indications that a ML analysis could be performed if we can pair the STLMPD data with another dataset with more features.\n",
        "\n",
        "The analysis attempts to find parallels between data from the St. Louis Metropolitan Police Department and the effects of historical redlining, the systematic denial of services by government, both local and national, and the private sector which disproportionately affects minority communities. In general, overpolicing tends to take place more in minority communities, such as ones affected by historical redlining in St. Louis City. Thus, one can argue that African American communities are arrested more on average for crimes that have little threat or inherent violence associated with them. For this reason, the dataset from the STLMPD is subset into crimes that are deemed \"non-threatening,\" or crimes that police may or may not target African American's more for such as loitering. The idea here is to examine the STLMPD data to indicate whether or not these crimes take place in areas of the city that are predominately black, or are areas that were historically redlined zones. \n",
        "\n",
        "This data was cleaned and subset in **RStudio**, and the clean csv file was uploaded to google drive and accessed via a google drive mount. Special thanks to Christopher Prener, PhD., Cree Foeller, & Taylor Braswell for their [*compstatr*](https://github.com/slu-openGIS/compstatr) R package which allowed us to access the STLMPD data."
      ]
    },
    {
      "cell_type": "code",
      "metadata": {
        "id": "WmQukcrvRUa6",
        "colab": {
          "base_uri": "https://localhost:8080/"
        },
        "outputId": "2ec6a4e7-ed2e-48e5-9dcd-e856df2cb797"
      },
      "source": [
        "# import google colab drive\n",
        "from google.colab import drive\n",
        "drive.mount('/content/drive')"
      ],
      "execution_count": null,
      "outputs": [
        {
          "output_type": "stream",
          "text": [
            "Mounted at /content/drive\n"
          ],
          "name": "stdout"
        }
      ]
    },
    {
      "cell_type": "code",
      "metadata": {
        "id": "J9PkJVhvSH19",
        "colab": {
          "base_uri": "https://localhost:8080/"
        },
        "outputId": "f9e05d08-8436-40a9-a51f-92a6e8409c2c"
      },
      "source": [
        "# set working directory\n",
        "%cd /content/drive/'My Drive'/Data"
      ],
      "execution_count": null,
      "outputs": [
        {
          "output_type": "stream",
          "text": [
            "/content/drive/My Drive/Data\n"
          ],
          "name": "stdout"
        }
      ]
    },
    {
      "cell_type": "code",
      "metadata": {
        "colab": {
          "base_uri": "https://localhost:8080/",
          "height": 419
        },
        "id": "2fN9NCQbSiS4",
        "outputId": "5ed79a08-d3c7-4fd9-e840-82662f44d045"
      },
      "source": [
        "# read in stl data\n",
        "import pandas as pd\n",
        "stlcrime = pd.read_csv(\"stlcrime.csv\")\n",
        "stlcrime.head(5)"
      ],
      "execution_count": null,
      "outputs": [
        {
          "output_type": "execute_result",
          "data": {
            "text/html": [
              "<div>\n",
              "<style scoped>\n",
              "    .dataframe tbody tr th:only-of-type {\n",
              "        vertical-align: middle;\n",
              "    }\n",
              "\n",
              "    .dataframe tbody tr th {\n",
              "        vertical-align: top;\n",
              "    }\n",
              "\n",
              "    .dataframe thead th {\n",
              "        text-align: right;\n",
              "    }\n",
              "</style>\n",
              "<table border=\"1\" class=\"dataframe\">\n",
              "  <thead>\n",
              "    <tr style=\"text-align: right;\">\n",
              "      <th></th>\n",
              "      <th>year</th>\n",
              "      <th>crime</th>\n",
              "      <th>district</th>\n",
              "      <th>neighborhood</th>\n",
              "      <th>address</th>\n",
              "      <th>description</th>\n",
              "    </tr>\n",
              "  </thead>\n",
              "  <tbody>\n",
              "    <tr>\n",
              "      <th>0</th>\n",
              "      <td>2010-05</td>\n",
              "      <td>241100</td>\n",
              "      <td>6</td>\n",
              "      <td>79</td>\n",
              "      <td>8430 HALL</td>\n",
              "      <td>DISORDERLY CONDUCT-PEACE DSTRB/INDIVIDUAL</td>\n",
              "    </tr>\n",
              "    <tr>\n",
              "      <th>1</th>\n",
              "      <td>2010-05</td>\n",
              "      <td>266999</td>\n",
              "      <td>4</td>\n",
              "      <td>61</td>\n",
              "      <td>1827 OFALLON ST</td>\n",
              "      <td>PUBLIC ORDER-OTHR UNSPC PBLC ORDER VIOLATION</td>\n",
              "    </tr>\n",
              "    <tr>\n",
              "      <th>2</th>\n",
              "      <td>2010-05</td>\n",
              "      <td>266999</td>\n",
              "      <td>4</td>\n",
              "      <td>62</td>\n",
              "      <td>1228 N 9TH ST</td>\n",
              "      <td>PUBLIC ORDER-OTHR UNSPC PBLC ORDER VIOLATION</td>\n",
              "    </tr>\n",
              "    <tr>\n",
              "      <th>3</th>\n",
              "      <td>2010-05</td>\n",
              "      <td>266999</td>\n",
              "      <td>4</td>\n",
              "      <td>33</td>\n",
              "      <td>1541 CASTLE LN</td>\n",
              "      <td>PUBLIC ORDER-OTHR UNSPC PBLC ORDER VIOLATION</td>\n",
              "    </tr>\n",
              "    <tr>\n",
              "      <th>4</th>\n",
              "      <td>2010-05</td>\n",
              "      <td>266999</td>\n",
              "      <td>4</td>\n",
              "      <td>33</td>\n",
              "      <td>1106 GRATTAN ST</td>\n",
              "      <td>PUBLIC ORDER-OTHR UNSPC PBLC ORDER VIOLATION</td>\n",
              "    </tr>\n",
              "    <tr>\n",
              "      <th>...</th>\n",
              "      <td>...</td>\n",
              "      <td>...</td>\n",
              "      <td>...</td>\n",
              "      <td>...</td>\n",
              "      <td>...</td>\n",
              "      <td>...</td>\n",
              "    </tr>\n",
              "    <tr>\n",
              "      <th>95</th>\n",
              "      <td>2010-05</td>\n",
              "      <td>266510</td>\n",
              "      <td>5</td>\n",
              "      <td>67</td>\n",
              "      <td>4127 N GRAND BLVD</td>\n",
              "      <td>PUBLIC ORDER-TRESPASSING</td>\n",
              "    </tr>\n",
              "    <tr>\n",
              "      <th>96</th>\n",
              "      <td>2010-05</td>\n",
              "      <td>182400</td>\n",
              "      <td>3</td>\n",
              "      <td>19</td>\n",
              "      <td>2741 CHEROKEE ST</td>\n",
              "      <td>DRUGS-POSSESSION/MARIJUANA</td>\n",
              "    </tr>\n",
              "    <tr>\n",
              "      <th>97</th>\n",
              "      <td>2010-05</td>\n",
              "      <td>241100</td>\n",
              "      <td>3</td>\n",
              "      <td>81</td>\n",
              "      <td>2700 CENTER CROSS DRIVE</td>\n",
              "      <td>DISORDERLY CONDUCT-PEACE DSTRB/INDIVIDUAL</td>\n",
              "    </tr>\n",
              "    <tr>\n",
              "      <th>98</th>\n",
              "      <td>2010-05</td>\n",
              "      <td>241100</td>\n",
              "      <td>2</td>\n",
              "      <td>9</td>\n",
              "      <td>7201 LANSDOWNE AVE</td>\n",
              "      <td>DISORDERLY CONDUCT-PEACE DSTRB/INDIVIDUAL</td>\n",
              "    </tr>\n",
              "    <tr>\n",
              "      <th>99</th>\n",
              "      <td>2010-05</td>\n",
              "      <td>241100</td>\n",
              "      <td>3</td>\n",
              "      <td>18</td>\n",
              "      <td>3736 SALENA ST</td>\n",
              "      <td>DISORDERLY CONDUCT-PEACE DSTRB/INDIVIDUAL</td>\n",
              "    </tr>\n",
              "  </tbody>\n",
              "</table>\n",
              "<p>100 rows × 6 columns</p>\n",
              "</div>"
            ],
            "text/plain": [
              "       year  ...                                   description\n",
              "0   2010-05  ...     DISORDERLY CONDUCT-PEACE DSTRB/INDIVIDUAL\n",
              "1   2010-05  ...  PUBLIC ORDER-OTHR UNSPC PBLC ORDER VIOLATION\n",
              "2   2010-05  ...  PUBLIC ORDER-OTHR UNSPC PBLC ORDER VIOLATION\n",
              "3   2010-05  ...  PUBLIC ORDER-OTHR UNSPC PBLC ORDER VIOLATION\n",
              "4   2010-05  ...  PUBLIC ORDER-OTHR UNSPC PBLC ORDER VIOLATION\n",
              "..      ...  ...                                           ...\n",
              "95  2010-05  ...                      PUBLIC ORDER-TRESPASSING\n",
              "96  2010-05  ...                    DRUGS-POSSESSION/MARIJUANA\n",
              "97  2010-05  ...     DISORDERLY CONDUCT-PEACE DSTRB/INDIVIDUAL\n",
              "98  2010-05  ...     DISORDERLY CONDUCT-PEACE DSTRB/INDIVIDUAL\n",
              "99  2010-05  ...     DISORDERLY CONDUCT-PEACE DSTRB/INDIVIDUAL\n",
              "\n",
              "[100 rows x 6 columns]"
            ]
          },
          "metadata": {
            "tags": []
          },
          "execution_count": 11
        }
      ]
    },
    {
      "cell_type": "code",
      "metadata": {
        "colab": {
          "base_uri": "https://localhost:8080/",
          "height": 419
        },
        "id": "LV0JGXTQV0Xg",
        "outputId": "b2e9ebe3-9b8e-4f3d-a598-53138b5c8402"
      },
      "source": [
        "# create encoder\n",
        "from sklearn.preprocessing import LabelEncoder\n",
        "encoder = LabelEncoder()\n",
        "\n",
        "# create copy for classification analysis\n",
        "stlcrime_copy = stlcrime.copy()\n",
        "\n",
        "# convert to encoded labels\n",
        "stlcrime_copy['description'] = encoder.fit_transform(stlcrime_copy['description'])\n",
        "stlcrime_copy.head(5)"
      ],
      "execution_count": null,
      "outputs": [
        {
          "output_type": "execute_result",
          "data": {
            "text/html": [
              "<div>\n",
              "<style scoped>\n",
              "    .dataframe tbody tr th:only-of-type {\n",
              "        vertical-align: middle;\n",
              "    }\n",
              "\n",
              "    .dataframe tbody tr th {\n",
              "        vertical-align: top;\n",
              "    }\n",
              "\n",
              "    .dataframe thead th {\n",
              "        text-align: right;\n",
              "    }\n",
              "</style>\n",
              "<table border=\"1\" class=\"dataframe\">\n",
              "  <thead>\n",
              "    <tr style=\"text-align: right;\">\n",
              "      <th></th>\n",
              "      <th>year</th>\n",
              "      <th>crime</th>\n",
              "      <th>district</th>\n",
              "      <th>neighborhood</th>\n",
              "      <th>address</th>\n",
              "      <th>description</th>\n",
              "    </tr>\n",
              "  </thead>\n",
              "  <tbody>\n",
              "    <tr>\n",
              "      <th>0</th>\n",
              "      <td>2010-05</td>\n",
              "      <td>241100</td>\n",
              "      <td>6</td>\n",
              "      <td>79</td>\n",
              "      <td>8430 HALL</td>\n",
              "      <td>0</td>\n",
              "    </tr>\n",
              "    <tr>\n",
              "      <th>1</th>\n",
              "      <td>2010-05</td>\n",
              "      <td>266999</td>\n",
              "      <td>4</td>\n",
              "      <td>61</td>\n",
              "      <td>1827 OFALLON ST</td>\n",
              "      <td>4</td>\n",
              "    </tr>\n",
              "    <tr>\n",
              "      <th>2</th>\n",
              "      <td>2010-05</td>\n",
              "      <td>266999</td>\n",
              "      <td>4</td>\n",
              "      <td>62</td>\n",
              "      <td>1228 N 9TH ST</td>\n",
              "      <td>4</td>\n",
              "    </tr>\n",
              "    <tr>\n",
              "      <th>3</th>\n",
              "      <td>2010-05</td>\n",
              "      <td>266999</td>\n",
              "      <td>4</td>\n",
              "      <td>33</td>\n",
              "      <td>1541 CASTLE LN</td>\n",
              "      <td>4</td>\n",
              "    </tr>\n",
              "    <tr>\n",
              "      <th>4</th>\n",
              "      <td>2010-05</td>\n",
              "      <td>266999</td>\n",
              "      <td>4</td>\n",
              "      <td>33</td>\n",
              "      <td>1106 GRATTAN ST</td>\n",
              "      <td>4</td>\n",
              "    </tr>\n",
              "    <tr>\n",
              "      <th>...</th>\n",
              "      <td>...</td>\n",
              "      <td>...</td>\n",
              "      <td>...</td>\n",
              "      <td>...</td>\n",
              "      <td>...</td>\n",
              "      <td>...</td>\n",
              "    </tr>\n",
              "    <tr>\n",
              "      <th>95</th>\n",
              "      <td>2010-05</td>\n",
              "      <td>266510</td>\n",
              "      <td>5</td>\n",
              "      <td>67</td>\n",
              "      <td>4127 N GRAND BLVD</td>\n",
              "      <td>5</td>\n",
              "    </tr>\n",
              "    <tr>\n",
              "      <th>96</th>\n",
              "      <td>2010-05</td>\n",
              "      <td>182400</td>\n",
              "      <td>3</td>\n",
              "      <td>19</td>\n",
              "      <td>2741 CHEROKEE ST</td>\n",
              "      <td>1</td>\n",
              "    </tr>\n",
              "    <tr>\n",
              "      <th>97</th>\n",
              "      <td>2010-05</td>\n",
              "      <td>241100</td>\n",
              "      <td>3</td>\n",
              "      <td>81</td>\n",
              "      <td>2700 CENTER CROSS DRIVE</td>\n",
              "      <td>0</td>\n",
              "    </tr>\n",
              "    <tr>\n",
              "      <th>98</th>\n",
              "      <td>2010-05</td>\n",
              "      <td>241100</td>\n",
              "      <td>2</td>\n",
              "      <td>9</td>\n",
              "      <td>7201 LANSDOWNE AVE</td>\n",
              "      <td>0</td>\n",
              "    </tr>\n",
              "    <tr>\n",
              "      <th>99</th>\n",
              "      <td>2010-05</td>\n",
              "      <td>241100</td>\n",
              "      <td>3</td>\n",
              "      <td>18</td>\n",
              "      <td>3736 SALENA ST</td>\n",
              "      <td>0</td>\n",
              "    </tr>\n",
              "  </tbody>\n",
              "</table>\n",
              "<p>100 rows × 6 columns</p>\n",
              "</div>"
            ],
            "text/plain": [
              "       year   crime  ...                  address  description\n",
              "0   2010-05  241100  ...                8430 HALL            0\n",
              "1   2010-05  266999  ...          1827 OFALLON ST            4\n",
              "2   2010-05  266999  ...            1228 N 9TH ST            4\n",
              "3   2010-05  266999  ...           1541 CASTLE LN            4\n",
              "4   2010-05  266999  ...          1106 GRATTAN ST            4\n",
              "..      ...     ...  ...                      ...          ...\n",
              "95  2010-05  266510  ...        4127 N GRAND BLVD            5\n",
              "96  2010-05  182400  ...         2741 CHEROKEE ST            1\n",
              "97  2010-05  241100  ...  2700 CENTER CROSS DRIVE            0\n",
              "98  2010-05  241100  ...       7201 LANSDOWNE AVE            0\n",
              "99  2010-05  241100  ...           3736 SALENA ST            0\n",
              "\n",
              "[100 rows x 6 columns]"
            ]
          },
          "metadata": {
            "tags": []
          },
          "execution_count": 10
        }
      ]
    },
    {
      "cell_type": "code",
      "metadata": {
        "colab": {
          "base_uri": "https://localhost:8080/",
          "height": 331
        },
        "id": "xGq5M2o6F_Ju",
        "outputId": "958bd0d2-fef2-4e0f-f8ba-0850a1b92e22"
      },
      "source": [
        "# plot distribution\n",
        "import matplotlib.pyplot as plt\n",
        "\n",
        "# set subplot features\n",
        "plt.style.use('seaborn-whitegrid')\n",
        "fig, axs = plt.subplots(1, 2, sharey=True, figsize=(18,5))\n",
        "\n",
        "# plot subplots\n",
        "axs[0].hist(stlcrime_copy['district'], align = 'mid', facecolor = '#2ab0ff', edgecolor='#169acf', linewidth=0.5, bins=14)\n",
        "axs[0].title.set_text('District Instance Count')\n",
        "axs[1].hist(stlcrime_copy['description'], align = 'left', facecolor = '#2ab0ff', edgecolor='#169acf', linewidth=0.5, bins=10)\n",
        "axs[1].title.set_text('Crime Type Distribution')"
      ],
      "execution_count": null,
      "outputs": [
        {
          "output_type": "display_data",
          "data": {
            "image/png": "[encoded data removed]",
            "text/plain": [
              "<Figure size 1296x360 with 2 Axes>"
            ]
          },
          "metadata": {
            "tags": []
          }
        }
      ]
    },
    {
      "cell_type": "markdown",
      "metadata": {
        "id": "vMjVwA4vj-Dk"
      },
      "source": [
        "**District 4** is located in North City, St. Louis and overall has the most instances of crime present in the STLMPD data. Out of all the non-violent crimes indicated from the data, the most instances comes from encoding number 4 which is ***PUBLIC ORDER-OTHR UNSPC PBLC ORDER VIOLATION***. Second highest is instance zero: ***DISORDERLY CONDUCT-PEACE DSTRB/INDIVIDUAL***. "
      ]
    },
    {
      "cell_type": "markdown",
      "metadata": {
        "id": "69INfS7eW9SW"
      },
      "source": [
        "#### **Labels transformed to numerical output:**\n",
        "- *0 = DISORDERLY CONDUCT-PEACE DSTRB/INDIVIDUAL*\n",
        "- *1 = DRUGS-POSSESSION/MARIJUANA*\n",
        "- *2 = LIQUOR LAWS-OTHR UNSPEC LIQ OFFENSE*\n",
        "- *3 = LOITERING-BEGGING*\n",
        "- *4 = PUBLIC ORDER-OTHR UNSPC PBLC ORDER VIOLATION*\n",
        "- *5 = PUBLIC ORDER-TRESPASSING*"
      ]
    },
    {
      "cell_type": "code",
      "metadata": {
        "colab": {
          "base_uri": "https://localhost:8080/",
          "height": 341
        },
        "id": "5kDeNzrqXCCO",
        "outputId": "ef65b7ea-cfc3-4d92-e9d8-901da9e73073"
      },
      "source": [
        "# create copy\n",
        "stlcrime_copy = stlcrime_copy.drop(['year', 'crime', 'neighborhood', 'address'],axis=1)"
      ],
      "execution_count": null,
      "outputs": [
        {
          "output_type": "error",
          "ename": "KeyError",
          "evalue": "ignored",
          "traceback": [
            "\u001b[0;31m---------------------------------------------------------------------------\u001b[0m",
            "\u001b[0;31mKeyError\u001b[0m                                  Traceback (most recent call last)",
            "\u001b[0;32m<ipython-input-16-5de20f52ef81>\u001b[0m in \u001b[0;36m<module>\u001b[0;34m()\u001b[0m\n\u001b[0;32m----> 1\u001b[0;31m \u001b[0mstlcrime_copy\u001b[0m \u001b[0;34m=\u001b[0m \u001b[0mstlcrime_copy\u001b[0m\u001b[0;34m.\u001b[0m\u001b[0mdrop\u001b[0m\u001b[0;34m(\u001b[0m\u001b[0;34m[\u001b[0m\u001b[0;34m'year'\u001b[0m\u001b[0;34m,\u001b[0m \u001b[0;34m'crime'\u001b[0m\u001b[0;34m,\u001b[0m \u001b[0;34m'neighborhood'\u001b[0m\u001b[0;34m,\u001b[0m \u001b[0;34m'address'\u001b[0m\u001b[0;34m]\u001b[0m\u001b[0;34m,\u001b[0m\u001b[0maxis\u001b[0m\u001b[0;34m=\u001b[0m\u001b[0;36m1\u001b[0m\u001b[0;34m)\u001b[0m\u001b[0;34m\u001b[0m\u001b[0;34m\u001b[0m\u001b[0m\n\u001b[0m\u001b[1;32m      2\u001b[0m \u001b[0;34m\u001b[0m\u001b[0m\n\u001b[1;32m      3\u001b[0m \u001b[0mstlcrime_copy\u001b[0m\u001b[0;34m(\u001b[0m\u001b[0;34m)\u001b[0m\u001b[0;34m\u001b[0m\u001b[0;34m\u001b[0m\u001b[0m\n",
            "\u001b[0;32m/usr/local/lib/python3.6/dist-packages/pandas/core/frame.py\u001b[0m in \u001b[0;36mdrop\u001b[0;34m(self, labels, axis, index, columns, level, inplace, errors)\u001b[0m\n\u001b[1;32m   4172\u001b[0m             \u001b[0mlevel\u001b[0m\u001b[0;34m=\u001b[0m\u001b[0mlevel\u001b[0m\u001b[0;34m,\u001b[0m\u001b[0;34m\u001b[0m\u001b[0;34m\u001b[0m\u001b[0m\n\u001b[1;32m   4173\u001b[0m             \u001b[0minplace\u001b[0m\u001b[0;34m=\u001b[0m\u001b[0minplace\u001b[0m\u001b[0;34m,\u001b[0m\u001b[0;34m\u001b[0m\u001b[0;34m\u001b[0m\u001b[0m\n\u001b[0;32m-> 4174\u001b[0;31m             \u001b[0merrors\u001b[0m\u001b[0;34m=\u001b[0m\u001b[0merrors\u001b[0m\u001b[0;34m,\u001b[0m\u001b[0;34m\u001b[0m\u001b[0;34m\u001b[0m\u001b[0m\n\u001b[0m\u001b[1;32m   4175\u001b[0m         )\n\u001b[1;32m   4176\u001b[0m \u001b[0;34m\u001b[0m\u001b[0m\n",
            "\u001b[0;32m/usr/local/lib/python3.6/dist-packages/pandas/core/generic.py\u001b[0m in \u001b[0;36mdrop\u001b[0;34m(self, labels, axis, index, columns, level, inplace, errors)\u001b[0m\n\u001b[1;32m   3885\u001b[0m         \u001b[0;32mfor\u001b[0m \u001b[0maxis\u001b[0m\u001b[0;34m,\u001b[0m \u001b[0mlabels\u001b[0m \u001b[0;32min\u001b[0m \u001b[0maxes\u001b[0m\u001b[0;34m.\u001b[0m\u001b[0mitems\u001b[0m\u001b[0;34m(\u001b[0m\u001b[0;34m)\u001b[0m\u001b[0;34m:\u001b[0m\u001b[0;34m\u001b[0m\u001b[0;34m\u001b[0m\u001b[0m\n\u001b[1;32m   3886\u001b[0m             \u001b[0;32mif\u001b[0m \u001b[0mlabels\u001b[0m \u001b[0;32mis\u001b[0m \u001b[0;32mnot\u001b[0m \u001b[0;32mNone\u001b[0m\u001b[0;34m:\u001b[0m\u001b[0;34m\u001b[0m\u001b[0;34m\u001b[0m\u001b[0m\n\u001b[0;32m-> 3887\u001b[0;31m                 \u001b[0mobj\u001b[0m \u001b[0;34m=\u001b[0m \u001b[0mobj\u001b[0m\u001b[0;34m.\u001b[0m\u001b[0m_drop_axis\u001b[0m\u001b[0;34m(\u001b[0m\u001b[0mlabels\u001b[0m\u001b[0;34m,\u001b[0m \u001b[0maxis\u001b[0m\u001b[0;34m,\u001b[0m \u001b[0mlevel\u001b[0m\u001b[0;34m=\u001b[0m\u001b[0mlevel\u001b[0m\u001b[0;34m,\u001b[0m \u001b[0merrors\u001b[0m\u001b[0;34m=\u001b[0m\u001b[0merrors\u001b[0m\u001b[0;34m)\u001b[0m\u001b[0;34m\u001b[0m\u001b[0;34m\u001b[0m\u001b[0m\n\u001b[0m\u001b[1;32m   3888\u001b[0m \u001b[0;34m\u001b[0m\u001b[0m\n\u001b[1;32m   3889\u001b[0m         \u001b[0;32mif\u001b[0m \u001b[0minplace\u001b[0m\u001b[0;34m:\u001b[0m\u001b[0;34m\u001b[0m\u001b[0;34m\u001b[0m\u001b[0m\n",
            "\u001b[0;32m/usr/local/lib/python3.6/dist-packages/pandas/core/generic.py\u001b[0m in \u001b[0;36m_drop_axis\u001b[0;34m(self, labels, axis, level, errors)\u001b[0m\n\u001b[1;32m   3919\u001b[0m                 \u001b[0mnew_axis\u001b[0m \u001b[0;34m=\u001b[0m \u001b[0maxis\u001b[0m\u001b[0;34m.\u001b[0m\u001b[0mdrop\u001b[0m\u001b[0;34m(\u001b[0m\u001b[0mlabels\u001b[0m\u001b[0;34m,\u001b[0m \u001b[0mlevel\u001b[0m\u001b[0;34m=\u001b[0m\u001b[0mlevel\u001b[0m\u001b[0;34m,\u001b[0m \u001b[0merrors\u001b[0m\u001b[0;34m=\u001b[0m\u001b[0merrors\u001b[0m\u001b[0;34m)\u001b[0m\u001b[0;34m\u001b[0m\u001b[0;34m\u001b[0m\u001b[0m\n\u001b[1;32m   3920\u001b[0m             \u001b[0;32melse\u001b[0m\u001b[0;34m:\u001b[0m\u001b[0;34m\u001b[0m\u001b[0;34m\u001b[0m\u001b[0m\n\u001b[0;32m-> 3921\u001b[0;31m                 \u001b[0mnew_axis\u001b[0m \u001b[0;34m=\u001b[0m \u001b[0maxis\u001b[0m\u001b[0;34m.\u001b[0m\u001b[0mdrop\u001b[0m\u001b[0;34m(\u001b[0m\u001b[0mlabels\u001b[0m\u001b[0;34m,\u001b[0m \u001b[0merrors\u001b[0m\u001b[0;34m=\u001b[0m\u001b[0merrors\u001b[0m\u001b[0;34m)\u001b[0m\u001b[0;34m\u001b[0m\u001b[0;34m\u001b[0m\u001b[0m\n\u001b[0m\u001b[1;32m   3922\u001b[0m             \u001b[0mresult\u001b[0m \u001b[0;34m=\u001b[0m \u001b[0mself\u001b[0m\u001b[0;34m.\u001b[0m\u001b[0mreindex\u001b[0m\u001b[0;34m(\u001b[0m\u001b[0;34m**\u001b[0m\u001b[0;34m{\u001b[0m\u001b[0maxis_name\u001b[0m\u001b[0;34m:\u001b[0m \u001b[0mnew_axis\u001b[0m\u001b[0;34m}\u001b[0m\u001b[0;34m)\u001b[0m\u001b[0;34m\u001b[0m\u001b[0;34m\u001b[0m\u001b[0m\n\u001b[1;32m   3923\u001b[0m \u001b[0;34m\u001b[0m\u001b[0m\n",
            "\u001b[0;32m/usr/local/lib/python3.6/dist-packages/pandas/core/indexes/base.py\u001b[0m in \u001b[0;36mdrop\u001b[0;34m(self, labels, errors)\u001b[0m\n\u001b[1;32m   5282\u001b[0m         \u001b[0;32mif\u001b[0m \u001b[0mmask\u001b[0m\u001b[0;34m.\u001b[0m\u001b[0many\u001b[0m\u001b[0;34m(\u001b[0m\u001b[0;34m)\u001b[0m\u001b[0;34m:\u001b[0m\u001b[0;34m\u001b[0m\u001b[0;34m\u001b[0m\u001b[0m\n\u001b[1;32m   5283\u001b[0m             \u001b[0;32mif\u001b[0m \u001b[0merrors\u001b[0m \u001b[0;34m!=\u001b[0m \u001b[0;34m\"ignore\"\u001b[0m\u001b[0;34m:\u001b[0m\u001b[0;34m\u001b[0m\u001b[0;34m\u001b[0m\u001b[0m\n\u001b[0;32m-> 5284\u001b[0;31m                 \u001b[0;32mraise\u001b[0m \u001b[0mKeyError\u001b[0m\u001b[0;34m(\u001b[0m\u001b[0;34mf\"{labels[mask]} not found in axis\"\u001b[0m\u001b[0;34m)\u001b[0m\u001b[0;34m\u001b[0m\u001b[0;34m\u001b[0m\u001b[0m\n\u001b[0m\u001b[1;32m   5285\u001b[0m             \u001b[0mindexer\u001b[0m \u001b[0;34m=\u001b[0m \u001b[0mindexer\u001b[0m\u001b[0;34m[\u001b[0m\u001b[0;34m~\u001b[0m\u001b[0mmask\u001b[0m\u001b[0;34m]\u001b[0m\u001b[0;34m\u001b[0m\u001b[0;34m\u001b[0m\u001b[0m\n\u001b[1;32m   5286\u001b[0m         \u001b[0;32mreturn\u001b[0m \u001b[0mself\u001b[0m\u001b[0;34m.\u001b[0m\u001b[0mdelete\u001b[0m\u001b[0;34m(\u001b[0m\u001b[0mindexer\u001b[0m\u001b[0;34m)\u001b[0m\u001b[0;34m\u001b[0m\u001b[0;34m\u001b[0m\u001b[0m\n",
            "\u001b[0;31mKeyError\u001b[0m: \"['year' 'crime' 'neighborhood' 'address'] not found in axis\""
          ]
        }
      ]
    },
    {
      "cell_type": "code",
      "metadata": {
        "id": "7UsyfWkkZEdi"
      },
      "source": [
        "# set feature and label\n",
        "stlcrime_feature = stlcrime_copy['district']\n",
        "stlcrime_label = stlcrime_copy['description']\n",
        "\n",
        "# train / test split\n",
        "from sklearn.model_selection import train_test_split\n",
        "X_train, X_test, y_train, y_test = train_test_split(stlcrime_feature, stlcrime_label, test_size = 0.2, random_state = 42)"
      ],
      "execution_count": null,
      "outputs": []
    },
    {
      "cell_type": "code",
      "metadata": {
        "id": "GnlNbCPpfzmM"
      },
      "source": [
        "# reshape all data\n",
        "import numpy as np\n",
        "X_train_s = np.array(X_train).reshape((len(X_train), 1))\n",
        "y_train_s = np.array(y_train).reshape((len(y_train), 1))\n",
        "X_test_s = np.array(X_test).reshape((len(X_test), 1))\n",
        "y_test_s = np.array(y_test).reshape((len(y_test), 1))"
      ],
      "execution_count": null,
      "outputs": []
    },
    {
      "cell_type": "markdown",
      "metadata": {
        "id": "hgPivVcMjdCA"
      },
      "source": [
        "### **Decision Tree Classifier**\n",
        "We can check to see if a classication analysis could even be possible with two types of machine learning classification algorithms. Since our data is very bleak with only one feature and one label, keep in mind that these algorithms won't perform well. Parsimonious classification models include good data that is sparse, normalized, predictable, complex, etc. \n",
        "\n",
        "The first classifier we'll use is a decision tree. A decision tree works like a flowchart that stops at each feature (*node*), each branch represents an outcome, and each leaf node represents a *label*. In this case, there is only one branch since our data has only one feature, but there are six leaf nodes since there are six labels."
      ]
    },
    {
      "cell_type": "code",
      "metadata": {
        "colab": {
          "base_uri": "https://localhost:8080/"
        },
        "id": "KaA0uyEkcVOL",
        "outputId": "faad104d-b4c3-4498-c800-b3648e2fff0e"
      },
      "source": [
        "# import decision tree module\n",
        "from sklearn.tree import DecisionTreeClassifier\n",
        "tree_clf = DecisionTreeClassifier()\n",
        "\n",
        "# train decision tree on training data\n",
        "tree_clf.fit(X_train_s, y_train_s)\n",
        "\n",
        "# import metrics module\n",
        "from sklearn import metrics\n",
        "\n",
        "# check training accuracy\n",
        "y_pred = tree_clf.predict(X_train_s)\n",
        "print(\"Training Accuracy: \", metrics.accuracy_score(y_train, y_pred))\n",
        "\n",
        "# check testing accuracy\n",
        "y_pred_test = tree_clf.predict(X_test_s)\n",
        "print(\"Testing Accuracy: \", metrics.accuracy_score(y_test, y_pred_test))"
      ],
      "execution_count": null,
      "outputs": [
        {
          "output_type": "stream",
          "text": [
            "Training Accuracy:  0.3437278525868179\n",
            "Testing Accuracy:  0.34844192634560905\n"
          ],
          "name": "stdout"
        }
      ]
    },
    {
      "cell_type": "markdown",
      "metadata": {
        "id": "1uSWnD3wkdkr"
      },
      "source": [
        "### **Random Forest Classifier**\n",
        "Random forest are ensemble learning methods for classification that work by essentially generating multiple decision trees during training and outputting the class that is the **mode** of the classes.\n",
        "\n",
        "Again, remember that these algorithms are not going to perform well based on our data, but we can at least examine the results to see if classification may be an option once we can combine some data to make the models more complex."
      ]
    },
    {
      "cell_type": "code",
      "metadata": {
        "colab": {
          "base_uri": "https://localhost:8080/"
        },
        "id": "-Ao1lG4akfzk",
        "outputId": "f240ad62-4279-4fc3-b64a-bb544456ef7e"
      },
      "source": [
        "from sklearn.ensemble import RandomForestClassifier\n",
        "forest_clf = RandomForestClassifier()\n",
        "\n",
        "forest_clf.fit(X_train_s, y_train)\n",
        "\n",
        "# check training accuracy\n",
        "y_pred_rf = forest_clf.predict(X_train_s)\n",
        "print(\"Training Accuracy: \", metrics.accuracy_score(y_train, y_pred_rf))\n",
        "\n",
        "# check testing accuracy\n",
        "y_pred_test_rf = forest_clf.predict(X_test_s)\n",
        "print(\"Testing Accuracy: \", metrics.accuracy_score(y_test, y_pred_test_rf))"
      ],
      "execution_count": null,
      "outputs": [
        {
          "output_type": "stream",
          "text": [
            "Training Accuracy:  0.3437278525868179\n",
            "Testing Accuracy:  0.34844192634560905\n"
          ],
          "name": "stdout"
        }
      ]
    },
    {
      "cell_type": "markdown",
      "metadata": {
        "id": "NGVCdzWVoPwe"
      },
      "source": [
        "Both the **Decision Tree Classifier** & **Random Forest Classifier** have poor training / testing accuracies, as expected considering both the labels and the feature's are one-dimensional. A solid approach to improving an accuracy of a classifiaction algorithm is to make the model more complex, i.e. add more features. Even *WITH* a single feature, the classification algorithm gives a 34% accuracy. With more features from other datasets possibly combined with the STLMPD data, these models have potential to predict racial bias in the police force by way of higher non-violent crime counts.\n",
        "\n",
        "However, the STLMPD data simply lacks relevant features that could be used to predict crimes. One method of approaching this problem is to combine the STLMPD data with another dataset (*join via a unique column*) so that we can add complexity to the crime data and our model. Unfortunately the STLMPD data does not release the race of the perpetrator so we do not know the distribution of crime in St. Louis by race. This may be a potential pathway forward to mergining the idea of overpolicing and redlining. "
      ]
    }
  ]
}